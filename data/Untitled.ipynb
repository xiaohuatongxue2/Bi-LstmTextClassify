{
 "cells": [
  {
   "cell_type": "code",
   "execution_count": 2,
   "metadata": {
    "collapsed": false
   },
   "outputs": [],
   "source": [
    "import pandas as pd\n",
    "\n",
    "# df = pd.read_csv('./source/all_mfw.csv')"
   ]
  },
  {
   "cell_type": "code",
   "execution_count": 3,
   "metadata": {
    "collapsed": false
   },
   "outputs": [
    {
     "data": {
      "text/plain": [
       "array(['经历了卧铺大巴后终于在凌晨抵达了青岛，因为是公司组织的活动所以去的地方不是很多。在不觉三个小时后大家一起去了海边欣赏了日出，超姐美，所有的睡意都被赶跑，海水不是特别凉海风都带着热意。我不是很能吃的惯海鲜，在青岛几天顿顿海鲜，不知道是我吃不惯还是烧的不好吃....晚上有篝火晚会，公司几个小年轻拉着小音箱在海边吹着海风跳社会摇（？？？）被一群人围观哈哈哈哈',\n",
       "       '金沙滩是我国沙质最细、面积最大、风景最美的海滩，号称“亚洲第一滩”。而且这里是免票的，平时大家可以在火车站坐游2（观光2路）直达，可我这赶上了上合峰会，游2停运，只好先坐隧道5路到海韵嘉园然后再换乘L3（新区旅游专线）到达。由于去的不是旺季（5月23日），所以人不多，但景色很漂亮，值得一去。',\n",
       "       '去金沙滩度假完全是被栈桥上的人潮给吓晕了，在青岛想去个人少、沙滩干净的海滩，金沙滩银沙滩，真是不错的选择。我们觉得简直是海滩包场，虽然天冷不能下水，但孩子只要有沙子，就能玩整整一天，哪怕全身滚成泥猴，我也不会拦着她。'],\n",
       "      dtype=object)"
      ]
     },
     "execution_count": 3,
     "metadata": {},
     "output_type": "execute_result"
    }
   ],
   "source": [
    "df['评论内容'].values[:3]"
   ]
  },
  {
   "cell_type": "code",
   "execution_count": 5,
   "metadata": {
    "collapsed": false
   },
   "outputs": [
    {
     "data": {
      "text/plain": [
       "array(['在黄岛区，沙子以细出名，现在很出名的青岛啤酒节主会场就搬到了金沙滩，本地人很少来的，无非如此。不建议特意来此，除非就住在这附近。',\n",
       "       '青岛一般喝啤酒可以去有青岛啤酒节玩的没什么好玩的海面也一般', '8月份下饺子一样的人，没法玩！',\n",
       "       '不知道怎么的，长期关闭了，昨天去的时候出租车师傅就说关闭了',\n",
       "       '门票10元，不太推荐去，里面没啥意思。没有鲁迅公园好玩，非打卡爱好者还是别来了。在鲁迅公园就挺好。'], dtype=object)"
      ]
     },
     "execution_count": 5,
     "metadata": {},
     "output_type": "execute_result"
    }
   ],
   "source": [
    "df[df['标签'] == 'negative']['评论内容'].values[:5]"
   ]
  },
  {
   "cell_type": "code",
   "execution_count": 7,
   "metadata": {
    "collapsed": false
   },
   "outputs": [
    {
     "name": "stdout",
     "output_type": "stream",
     "text": [
      "<class 'pandas.core.frame.DataFrame'>\n",
      "RangeIndex: 17654 entries, 0 to 17653\n",
      "Data columns (total 4 columns):\n",
      "景区名称    17654 non-null object\n",
      "用户名     17654 non-null object\n",
      "评论内容    17654 non-null object\n",
      "标签      17654 non-null object\n",
      "dtypes: object(4)\n",
      "memory usage: 551.8+ KB\n"
     ]
    }
   ],
   "source": [
    "df.info()"
   ]
  },
  {
   "cell_type": "code",
   "execution_count": 57,
   "metadata": {
    "collapsed": true
   },
   "outputs": [],
   "source": [
    "df.to_csv('./source/all_mfw.csv', index=False, encoding='utf-8')"
   ]
  },
  {
   "cell_type": "code",
   "execution_count": 9,
   "metadata": {
    "collapsed": true
   },
   "outputs": [],
   "source": [
    "df = pd.read_csv('./all_mfw.csv')"
   ]
  },
  {
   "cell_type": "code",
   "execution_count": 10,
   "metadata": {
    "collapsed": false
   },
   "outputs": [
    {
     "data": {
      "text/plain": [
       "array(['positive', 'neutral', 'negative', 'netural', 'negu', 'neg',\n",
       "       'negea', 'neu', 'neupositive'], dtype=object)"
      ]
     },
     "execution_count": 10,
     "metadata": {},
     "output_type": "execute_result"
    }
   ],
   "source": [
    "df['标签'].unique()"
   ]
  },
  {
   "cell_type": "code",
   "execution_count": 3,
   "metadata": {
    "collapsed": false
   },
   "outputs": [
    {
     "data": {
      "text/plain": [
       "0.8761026139030509"
      ]
     },
     "execution_count": 3,
     "metadata": {},
     "output_type": "execute_result"
    }
   ],
   "source": [
    "df = pd.read_csv('./source/trainSet.csv')\n",
    "len(df[df['标签'] == 'positive']) / len(df)"
   ]
  },
  {
   "cell_type": "code",
   "execution_count": 4,
   "metadata": {
    "collapsed": false
   },
   "outputs": [
    {
     "data": {
      "text/plain": [
       "positive    10826\n",
       "negative      796\n",
       "neutral       735\n",
       "Name: 标签, dtype: int64"
      ]
     },
     "execution_count": 4,
     "metadata": {},
     "output_type": "execute_result"
    }
   ],
   "source": [
    "df['标签'].value_counts()"
   ]
  },
  {
   "cell_type": "code",
   "execution_count": 5,
   "metadata": {
    "collapsed": false
   },
   "outputs": [
    {
     "data": {
      "text/plain": [
       "positive    10826\n",
       "negative     8756\n",
       "neutral      8085\n",
       "Name: 标签, dtype: int64"
      ]
     },
     "execution_count": 5,
     "metadata": {},
     "output_type": "execute_result"
    }
   ],
   "source": [
    "new_df = df.copy()\n",
    "df1 = df[df['标签'] == 'negative']\n",
    "df2 = df[df['标签'] == 'neutral']\n",
    "for i in range(10):\n",
    "    new_df = new_df.append(df1)\n",
    "    new_df = new_df.append(df2)\n",
    "new_df['标签'].value_counts()"
   ]
  },
  {
   "cell_type": "code",
   "execution_count": 6,
   "metadata": {
    "collapsed": true
   },
   "outputs": [],
   "source": [
    "from sklearn.utils import shuffle\n",
    "new_df = shuffle(new_df)\n",
    "new_df.to_csv('./source/trainSet{}.csv'.format(len(new_df)), index=False)"
   ]
  },
  {
   "cell_type": "code",
   "execution_count": 11,
   "metadata": {
    "collapsed": true
   },
   "outputs": [],
   "source": [
    "import jieba\n",
    "import re\n",
    "\n",
    "\n",
    "def data_process_one(text):\n",
    "    \"\"\"\n",
    "    对文本进行预处理：清除无用字符，去除停用词，分词\n",
    "    :param text: 评论文本，\n",
    "    :stopwords：停用词\n",
    "    :return 预处理后的文本\n",
    "    \"\"\"\n",
    "    text = str(text).replace('\\n', ' ').strip()\n",
    "    text = re.sub('\\s+', ' ', text)\n",
    "    text = re.sub('[,，。 /:：]', ',', text)\n",
    "    text = re.sub(',+', ',', text)\n",
    "    word_list = list(jieba.cut(text))\n",
    "    return ' '.join(word_list)"
   ]
  },
  {
   "cell_type": "code",
   "execution_count": 12,
   "metadata": {
    "collapsed": false
   },
   "outputs": [
    {
     "name": "stderr",
     "output_type": "stream",
     "text": [
      "Building prefix dict from the default dictionary ...\n",
      "Loading model from cache C:\\Users\\kungeek\\AppData\\Local\\Temp\\jieba.cache\n",
      "Loading model cost 0.728 seconds.\n",
      "Prefix dict has been built successfully.\n"
     ]
    }
   ],
   "source": [
    "df['cut'] = df['评论内容'].apply(data_process_one)"
   ]
  },
  {
   "cell_type": "code",
   "execution_count": 13,
   "metadata": {
    "collapsed": false
   },
   "outputs": [
    {
     "data": {
      "text/plain": [
       "0    经历 了 卧铺 大巴 后 终于 在 凌晨 抵达 了 青岛 , 因为 是 公司 组织 的 活动...\n",
       "1    金沙滩 是 我国 沙质 最细 、 面积 最大 、 风景 最美 的 海滩 , 号称 “ 亚洲 ...\n",
       "2    去 金沙滩 度假 完全 是 被 栈桥 上 的 人潮 给 吓 晕 了 , 在 青岛 想 去 个...\n",
       "3    ? ? 金沙滩 位于 黄海之滨 , 沙质 细软 , 色泽 如金 , 号称 “ 亚洲 第一 滩...\n",
       "4    金沙滩 位于 青岛 开发区 东南 , 南 濒 黄海 , 呈 月牙形 东西 伸展 , 全长 3...\n",
       "Name: cut, dtype: object"
      ]
     },
     "execution_count": 13,
     "metadata": {},
     "output_type": "execute_result"
    }
   ],
   "source": [
    "df['cut'].head()"
   ]
  },
  {
   "cell_type": "code",
   "execution_count": 14,
   "metadata": {
    "collapsed": true
   },
   "outputs": [],
   "source": [
    "\n",
    "with open('./test.txt', 'w', encoding='utf-8') as f:\n",
    "    for sen in df['cut']:\n",
    "        f.write(sen)\n",
    "        f.write('\\n')"
   ]
  },
  {
   "cell_type": "code",
   "execution_count": 17,
   "metadata": {
    "collapsed": false
   },
   "outputs": [],
   "source": [
    "from gensim.models import Word2Vec\n",
    "from gensim.models.word2vec import LineSentence\n",
    "\n",
    "inp = './test.txt'\n",
    "model = Word2Vec(LineSentence(inp), size=50, window=5, min_count=5)"
   ]
  },
  {
   "cell_type": "code",
   "execution_count": 36,
   "metadata": {
    "collapsed": false
   },
   "outputs": [
    {
     "data": {
      "text/plain": [
       "[('心里', 0.9803360104560852),\n",
       " ('得出', 0.979602038860321),\n",
       " ('遇上', 0.9748328328132629),\n",
       " ('脚踝', 0.9739866256713867),\n",
       " ('记不清', 0.9738843441009521),\n",
       " ('怎样', 0.9734298586845398),\n",
       " ('丛林', 0.9728232622146606),\n",
       " ('旋转', 0.9724557995796204),\n",
       " ('好心', 0.9723654389381409),\n",
       " ('立马', 0.9715825915336609)]"
      ]
     },
     "execution_count": 36,
     "metadata": {},
     "output_type": "execute_result"
    }
   ],
   "source": [
    "model.wv.similar_by_word('经历')"
   ]
  },
  {
   "cell_type": "code",
   "execution_count": 23,
   "metadata": {
    "collapsed": false
   },
   "outputs": [
    {
     "name": "stdout",
     "output_type": "stream",
     "text": [
      "('经历', <gensim.models.keyedvectors.Vocab object at 0x00000162E0F67E48>)\n"
     ]
    }
   ],
   "source": [
    "for i in model.wv.vocab.items():\n",
    "    print(i)\n",
    "    break"
   ]
  },
  {
   "cell_type": "code",
   "execution_count": 24,
   "metadata": {
    "collapsed": true
   },
   "outputs": [],
   "source": [
    "from sklearn.model_selection import train_test_split\n",
    "\n",
    "\n",
    "a, b = train_test_split(df, test_size=0.3)"
   ]
  },
  {
   "cell_type": "code",
   "execution_count": 25,
   "metadata": {
    "collapsed": false
   },
   "outputs": [
    {
     "data": {
      "text/html": [
       "<div>\n",
       "<style scoped>\n",
       "    .dataframe tbody tr th:only-of-type {\n",
       "        vertical-align: middle;\n",
       "    }\n",
       "\n",
       "    .dataframe tbody tr th {\n",
       "        vertical-align: top;\n",
       "    }\n",
       "\n",
       "    .dataframe thead th {\n",
       "        text-align: right;\n",
       "    }\n",
       "</style>\n",
       "<table border=\"1\" class=\"dataframe\">\n",
       "  <thead>\n",
       "    <tr style=\"text-align: right;\">\n",
       "      <th></th>\n",
       "      <th>景区名称</th>\n",
       "      <th>用户名</th>\n",
       "      <th>评论内容</th>\n",
       "      <th>标签</th>\n",
       "      <th>cut</th>\n",
       "    </tr>\n",
       "  </thead>\n",
       "  <tbody>\n",
       "    <tr>\n",
       "      <td>15908</td>\n",
       "      <td>泰安地下龙宫（原泰山大裂谷）</td>\n",
       "      <td>腾玮</td>\n",
       "      <td>景区入口到大裂谷溶洞有一段距离，我们步行前往，其实有点远，带着老人和小孩的还是建议乘坐观光车...</td>\n",
       "      <td>positive</td>\n",
       "      <td>景区 入口 到 大 裂谷 溶洞 有 一段距离 , 我们 步行 前往 , 其实 有点 远 , ...</td>\n",
       "    </tr>\n",
       "    <tr>\n",
       "      <td>10714</td>\n",
       "      <td>青岛海底世界-青岛水族馆</td>\n",
       "      <td>Cris紀行</td>\n",
       "      <td>中国最早的水族馆如果不看海洋世界门票40学生票20还是非常有性价比的水母馆淡水生物馆海产馆标...</td>\n",
       "      <td>positive</td>\n",
       "      <td>中国 最早 的 水族馆 如果 不看 海洋 世界 门票 40 学生票 20 还是 非常 有 性...</td>\n",
       "    </tr>\n",
       "    <tr>\n",
       "      <td>16039</td>\n",
       "      <td>水浒好汉城</td>\n",
       "      <td>妖怪</td>\n",
       "      <td>仿古建筑，你说水浒好汉们如果活过来，看到执政的官员们那么喜欢他们，还愿意造反不？</td>\n",
       "      <td>negative</td>\n",
       "      <td>仿古 建筑 , 你 说 水浒 好汉 们 如果 活过来 , 看到 执政 的 官员 们 那么 喜...</td>\n",
       "    </tr>\n",
       "    <tr>\n",
       "      <td>7014</td>\n",
       "      <td>唐摩崖石刻</td>\n",
       "      <td>Andrew</td>\n",
       "      <td>泰山景点之一，为历代文人墨客留下的题词</td>\n",
       "      <td>positive</td>\n",
       "      <td>泰山 景点 之一 , 为 历代 文人墨客 留下 的 题词</td>\n",
       "    </tr>\n",
       "    <tr>\n",
       "      <td>8510</td>\n",
       "      <td>坊茨小镇</td>\n",
       "      <td>四si44</td>\n",
       "      <td>个人觉得一般，挺大一个地方，交通也不是很方便</td>\n",
       "      <td>negative</td>\n",
       "      <td>个人 觉得 一般 , 挺大 一个 地方 , 交通 也 不是 很 方便</td>\n",
       "    </tr>\n",
       "  </tbody>\n",
       "</table>\n",
       "</div>"
      ],
      "text/plain": [
       "                 景区名称     用户名  \\\n",
       "15908  泰安地下龙宫（原泰山大裂谷）      腾玮   \n",
       "10714    青岛海底世界-青岛水族馆  Cris紀行   \n",
       "16039           水浒好汉城      妖怪   \n",
       "7014            唐摩崖石刻  Andrew   \n",
       "8510             坊茨小镇   四si44   \n",
       "\n",
       "                                                    评论内容        标签  \\\n",
       "15908  景区入口到大裂谷溶洞有一段距离，我们步行前往，其实有点远，带着老人和小孩的还是建议乘坐观光车...  positive   \n",
       "10714  中国最早的水族馆如果不看海洋世界门票40学生票20还是非常有性价比的水母馆淡水生物馆海产馆标...  positive   \n",
       "16039           仿古建筑，你说水浒好汉们如果活过来，看到执政的官员们那么喜欢他们，还愿意造反不？  negative   \n",
       "7014                                 泰山景点之一，为历代文人墨客留下的题词  positive   \n",
       "8510                              个人觉得一般，挺大一个地方，交通也不是很方便  negative   \n",
       "\n",
       "                                                     cut  \n",
       "15908  景区 入口 到 大 裂谷 溶洞 有 一段距离 , 我们 步行 前往 , 其实 有点 远 , ...  \n",
       "10714  中国 最早 的 水族馆 如果 不看 海洋 世界 门票 40 学生票 20 还是 非常 有 性...  \n",
       "16039  仿古 建筑 , 你 说 水浒 好汉 们 如果 活过来 , 看到 执政 的 官员 们 那么 喜...  \n",
       "7014                        泰山 景点 之一 , 为 历代 文人墨客 留下 的 题词  \n",
       "8510                  个人 觉得 一般 , 挺大 一个 地方 , 交通 也 不是 很 方便  "
      ]
     },
     "execution_count": 25,
     "metadata": {},
     "output_type": "execute_result"
    }
   ],
   "source": [
    "a.head()"
   ]
  },
  {
   "cell_type": "code",
   "execution_count": 27,
   "metadata": {
    "collapsed": false
   },
   "outputs": [
    {
     "name": "stdout",
     "output_type": "stream",
     "text": [
      "<gensim.models.keyedvectors.Word2VecKeyedVectors object at 0x00000162E0AE6A20>\n"
     ]
    }
   ],
   "source": [
    "print(model.wv)"
   ]
  },
  {
   "cell_type": "code",
   "execution_count": 37,
   "metadata": {
    "collapsed": false
   },
   "outputs": [
    {
     "data": {
      "text/plain": [
       "<gensim.models.word2vec.Word2Vec at 0x162e0ae6a58>"
      ]
     },
     "execution_count": 37,
     "metadata": {},
     "output_type": "execute_result"
    }
   ],
   "source": [
    "model"
   ]
  },
  {
   "cell_type": "code",
   "execution_count": 38,
   "metadata": {
    "collapsed": false
   },
   "outputs": [
    {
     "name": "stderr",
     "output_type": "stream",
     "text": [
      "D:\\software\\Anaconda3\\lib\\site-packages\\ipykernel\\__main__.py:1: DeprecationWarning: Call to deprecated `__getitem__` (Method will be removed in 4.0.0, use self.wv.__getitem__() instead).\n",
      "  if __name__ == '__main__':\n"
     ]
    },
    {
     "data": {
      "text/plain": [
       "array([-1.3268019 , -0.09258349, -1.5474279 ,  0.61796343, -1.2365726 ,\n",
       "        2.2492924 , -1.6366208 ,  0.5004851 , -1.492783  , -0.34838775,\n",
       "       -0.3294299 , -0.08238316,  1.1463965 , -2.2342906 ,  0.5168381 ,\n",
       "       -0.3429096 , -0.6035272 , -1.0844334 , -0.18779942,  1.1136084 ,\n",
       "        0.12346059, -2.243467  ,  1.7600442 , -0.66077673,  0.745564  ,\n",
       "       -0.34259322,  0.6904377 ,  0.22197996,  1.3596495 , -0.45526338,\n",
       "        1.565523  , -0.3935501 ,  1.1214525 ,  0.25940618, -1.8716938 ,\n",
       "       -2.826254  ,  2.9702628 ,  1.3386993 ,  2.2724104 ,  1.5194826 ,\n",
       "        1.1264942 ,  0.74727285,  0.12674804,  0.94464004,  0.40207508,\n",
       "        1.4234304 , -0.22212489,  0.65193975, -2.3338816 ,  0.4240599 ],\n",
       "      dtype=float32)"
      ]
     },
     "execution_count": 38,
     "metadata": {},
     "output_type": "execute_result"
    }
   ],
   "source": [
    "model['景区']"
   ]
  },
  {
   "cell_type": "code",
   "execution_count": 45,
   "metadata": {
    "collapsed": false
   },
   "outputs": [
    {
     "data": {
      "text/plain": [
       "list"
      ]
     },
     "execution_count": 45,
     "metadata": {},
     "output_type": "execute_result"
    }
   ],
   "source": [
    "type(model.wv.index2word)"
   ]
  },
  {
   "cell_type": "code",
   "execution_count": 46,
   "metadata": {
    "collapsed": false
   },
   "outputs": [
    {
     "data": {
      "text/plain": [
       "11053"
      ]
     },
     "execution_count": 46,
     "metadata": {},
     "output_type": "execute_result"
    }
   ],
   "source": [
    "len(model.wv.index2word)"
   ]
  },
  {
   "cell_type": "code",
   "execution_count": 47,
   "metadata": {
    "collapsed": false
   },
   "outputs": [
    {
     "data": {
      "text/plain": [
       "[',', '的', '是']"
      ]
     },
     "execution_count": 47,
     "metadata": {},
     "output_type": "execute_result"
    }
   ],
   "source": [
    "model.wv.index2word[:3]"
   ]
  },
  {
   "cell_type": "code",
   "execution_count": 49,
   "metadata": {
    "collapsed": false
   },
   "outputs": [
    {
     "data": {
      "text/plain": [
       "array([ 1.7578111 ,  0.00217677,  0.68798524,  0.43423814, -0.2907579 ,\n",
       "        0.9505683 ,  1.8458284 , -0.5494947 ,  0.20446567, -0.70580107,\n",
       "       -0.5673537 , -0.49935126, -1.1846464 , -1.1016223 ,  0.11690718,\n",
       "        0.21718957,  0.0944322 ,  1.3019673 , -1.5068196 ,  0.48519364,\n",
       "       -0.24316345,  0.45476693, -0.12775567,  1.1276364 ,  0.71076024,\n",
       "       -0.6999353 ,  1.4405955 , -0.4849769 ,  1.0680168 , -1.9963092 ,\n",
       "       -0.2815058 ,  0.01951147, -0.36541805,  0.41341236, -0.6503029 ,\n",
       "        0.26663408, -0.9058468 ,  0.67839515, -1.1354706 ,  0.34066805,\n",
       "       -0.95137334, -0.01127189, -1.389489  ,  0.21288036,  0.18662569,\n",
       "        0.8033737 ,  0.3348252 ,  0.6167162 ,  0.12476119,  0.8330245 ],\n",
       "      dtype=float32)"
      ]
     },
     "execution_count": 49,
     "metadata": {},
     "output_type": "execute_result"
    }
   ],
   "source": [
    "model.wv.vectors[1]"
   ]
  },
  {
   "cell_type": "code",
   "execution_count": 58,
   "metadata": {
    "collapsed": false
   },
   "outputs": [
    {
     "data": {
      "text/plain": [
       "positive    15493\n",
       "negative     1102\n",
       "neutral      1059\n",
       "Name: 标签, dtype: int64"
      ]
     },
     "execution_count": 58,
     "metadata": {},
     "output_type": "execute_result"
    }
   ],
   "source": [
    "df['标签'].value_counts()"
   ]
  },
  {
   "cell_type": "code",
   "execution_count": 59,
   "metadata": {
    "collapsed": false
   },
   "outputs": [
    {
     "data": {
      "text/plain": [
       "0.8775914806842642"
      ]
     },
     "execution_count": 59,
     "metadata": {},
     "output_type": "execute_result"
    }
   ],
   "source": [
    "len(df[df['标签'] == 'positive']) / len(df)"
   ]
  }
 ],
 "metadata": {
  "kernelspec": {
   "display_name": "Python 3",
   "language": "python",
   "name": "python3"
  },
  "language_info": {
   "codemirror_mode": {
    "name": "ipython",
    "version": 3
   },
   "file_extension": ".py",
   "mimetype": "text/x-python",
   "name": "python",
   "nbconvert_exporter": "python",
   "pygments_lexer": "ipython3",
   "version": "3.6.0"
  }
 },
 "nbformat": 4,
 "nbformat_minor": 2
}
